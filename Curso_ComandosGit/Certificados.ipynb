{
 "cells": [
  {
   "cell_type": "markdown",
   "id": "d3e99973",
   "metadata": {},
   "source": [
    "## CURSO GIT \n",
    "\n",
    "![curso](1.jpg) \n",
    "\n",
    "## CURSO GITHUB \n",
    "\n",
    "![curso](2.jpg) "
   ]
  }
 ],
 "metadata": {
  "language_info": {
   "name": "python"
  }
 },
 "nbformat": 4,
 "nbformat_minor": 5
}
