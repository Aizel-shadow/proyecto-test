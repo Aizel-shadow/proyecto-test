{
 "cells": [
  {
   "cell_type": "markdown",
   "id": "5f8697ef",
   "metadata": {},
   "source": [
    "GUI vs CLI \n",
    "\n",
    "Nombre: Alegria Isabel Farinango \n",
    "\n",
    "![tabla](3.png)\n"
   ]
  }
 ],
 "metadata": {
  "language_info": {
   "name": "python"
  }
 },
 "nbformat": 4,
 "nbformat_minor": 5
}
